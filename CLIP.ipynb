{
 "cells": [
  {
   "cell_type": "code",
   "execution_count": 1,
   "id": "tamil-enemy",
   "metadata": {},
   "outputs": [],
   "source": [
    "%matplotlib inline\n",
    "import matplotlib.pyplot as plt\n",
    "\n",
    "import sys\n",
    "sys.path.append(\"./CLIP\")\n",
    "import clip\n",
    "import os\n",
    "import torch\n",
    "from PIL import Image\n",
    "from IPython.display import Image as ImageDisplay\n",
    "from utils import load_pickle\n",
    "import faiss_utils\n",
    "from faiss_utils import KNearestFaiss\n",
    "import numpy as np\n",
    "from matplotlib.image import imread\n",
    "from matplotlib.pyplot import figure, imshow, axis\n",
    "from jupyter_utils import plot_time_jupyter, plot_scores_jupyter\n",
    "\n",
    "device = \"cuda\" if torch.cuda.is_available() else \"cpu\""
   ]
  },
  {
   "cell_type": "code",
   "execution_count": 2,
   "id": "breeding-puppy",
   "metadata": {},
   "outputs": [],
   "source": [
    "def img2array(im):\n",
    "    if im.mode != 'RGB':\n",
    "        im = im.convert(mode='RGB')\n",
    "    return np.fromstring(im.tostring(), dtype='uint8').reshape((im.size[1], im.size[0], 3))\n",
    "\n",
    "def display_top_query_from_meta(metadata_list, fill=True, score_list=[]):\n",
    "    list_of_files = [meta.get_path() for meta in metadata_list]\n",
    "    show_images(list_of_files, fill=fill, score_list=score_list)\n",
    "#     for meta in metadata_list:\n",
    "#         plt.figure()\n",
    "#         plt.imshow(img2array(Image.open(meta.get_path())))\n",
    "\n",
    "        \n",
    "\n",
    "def show_images(list_of_files, fill=True, score_list=[]):\n",
    "    block_size = int(len(list_of_files)/20)\n",
    "    size = (20+20*block_size,20+90*block_size)\n",
    "    print(size)\n",
    "    fig = figure(figsize=size, tight_layout=True)\n",
    "    number_of_files = len(list_of_files)\n",
    "    for i in range(number_of_files):\n",
    "        a=fig.add_subplot(number_of_files,3,i+1)\n",
    "        image = imread(list_of_files[i])\n",
    "#         imshow(image,cmap='Greys_r')\n",
    "        if fill:\n",
    "            imshow(image,aspect=\"auto\")\n",
    "        else:\n",
    "            imshow(image)\n",
    "        if len(score_list) > 0:\n",
    "            title=score_list[i]\n",
    "            plt.title(title, fontsize=30); \n",
    "        axis('off')\n",
    "\n",
    "\n",
    "def display_query_dict_random(query_dict, class_start=0, class_end=9, fill=False):\n",
    "    query_names = list(query_dict.keys())[class_start:class_end+1]\n",
    "    image_dict = {}\n",
    "    rank_list=list(range(0, 999, 40))\n",
    "    for query_name in query_names:\n",
    "        list_of_files, list_of_scores, rank_list = select_from_meta(query_dict[query_name]['metadata'], query_dict[query_name]['D'], rank_list=rank_list)\n",
    "        image_dict[query_name] = list_of_files, list_of_scores\n",
    "    show_image_dict(image_dict, fill=fill)\n",
    "\n",
    "def display_query_dict(query_dict, class_start=0, class_end=9, fill=False):\n",
    "    query_names = list(query_dict.keys())[class_start:class_end+1]\n",
    "    image_dict = {}\n",
    "    for query_name in query_names:\n",
    "        list_of_files, list_of_scores, rank_list = select_from_meta(query_dict[query_name]['metadata'], query_dict[query_name]['D'])\n",
    "        image_dict[query_name] = list_of_files, list_of_scores\n",
    "    show_image_dict(image_dict, fill=fill)\n",
    "        \n",
    "    \n",
    "def select_from_meta(metadata_list, score_list, rank_list=[0, 199, 399, 599, 799, 999]):\n",
    "    list_of_files = [metadata_list[rank].get_path() for rank in rank_list]\n",
    "    list_of_scores = [score_list[rank] for rank in rank_list]\n",
    "    return list_of_files, list_of_scores, rank_list\n",
    "#     for meta in metadata_list:\n",
    "#         plt.figure()\n",
    "#         plt.imshow(img2array(Image.open(meta.get_path())))\n",
    " \n",
    "\n",
    "def show_image_dict(image_dict, fill=True):\n",
    "    block_size = 2\n",
    "    size = (20+20*block_size,20+90*block_size)\n",
    "    size = (20+20*block_size,20+420*block_size)\n",
    "    print(size)\n",
    "    fig = figure(figsize=size, tight_layout=True)\n",
    "    number_of_queries = len(image_dict.keys())\n",
    "    list_of_files = []\n",
    "    list_of_scores = []\n",
    "    list_of_queries = []\n",
    "    for query in image_dict.keys():\n",
    "        files, scores= image_dict[query]\n",
    "        list_of_files += files\n",
    "        list_of_queries += [query for _ in files]\n",
    "        list_of_scores += scores\n",
    "        length_per_query = len(files)\n",
    "    number_of_files = len(list_of_files)\n",
    "    \n",
    "    for i in range(number_of_files):\n",
    "        a=fig.add_subplot(number_of_files,int(length_per_query/5),i+1)\n",
    "        if i % length_per_query == 0:\n",
    "            a.set_ylabel(list_of_queries[i],  fontsize=28)\n",
    "\n",
    "        image = imread(list_of_files[i])\n",
    "#         imshow(image,cmap='Greys_r')\n",
    "        if fill:\n",
    "            imshow(image,aspect=\"auto\")\n",
    "        else:\n",
    "            imshow(image)\n",
    "        if len(list_of_scores) > 0:\n",
    "            title=list_of_scores[i]\n",
    "            plt.title(title, fontsize=30); \n",
    "        axis('on')"
   ]
  },
  {
   "cell_type": "code",
   "execution_count": 3,
   "id": "silver-nothing",
   "metadata": {},
   "outputs": [
    {
     "name": "stdout",
     "output_type": "stream",
     "text": [
      "/scratch/zhiqiu/yfcc100m_all/clip_dataset/images_minbyte_10_valid_uploaded_date_jan_31/clip_dataset/tech_7/query_photo_size_1000_nnsize_10000_maxscore/query_dict.pickle\n"
     ]
    },
    {
     "ename": "AssertionError",
     "evalue": "",
     "output_type": "error",
     "traceback": [
      "\u001b[0;31m---------------------------------------------------------------------------\u001b[0m",
      "\u001b[0;31mAssertionError\u001b[0m                            Traceback (most recent call last)",
      "\u001b[0;32m<ipython-input-3-11c480fd61a3>\u001b[0m in \u001b[0;36m<module>\u001b[0;34m\u001b[0m\n\u001b[1;32m     11\u001b[0m \u001b[0msave_path\u001b[0m \u001b[0;34m=\u001b[0m \u001b[0mos\u001b[0m\u001b[0;34m.\u001b[0m\u001b[0mpath\u001b[0m\u001b[0;34m.\u001b[0m\u001b[0mjoin\u001b[0m\u001b[0;34m(\u001b[0m\u001b[0mmain_folder\u001b[0m\u001b[0;34m,\u001b[0m \u001b[0mlabel_set\u001b[0m\u001b[0;34m,\u001b[0m \u001b[0mdetail_str\u001b[0m\u001b[0;34m,\u001b[0m \u001b[0;34m\"query_dict.pickle\"\u001b[0m\u001b[0;34m)\u001b[0m\u001b[0;34m\u001b[0m\u001b[0;34m\u001b[0m\u001b[0m\n\u001b[1;32m     12\u001b[0m \u001b[0mprint\u001b[0m\u001b[0;34m(\u001b[0m\u001b[0msave_path\u001b[0m\u001b[0;34m)\u001b[0m\u001b[0;34m\u001b[0m\u001b[0;34m\u001b[0m\u001b[0m\n\u001b[0;32m---> 13\u001b[0;31m \u001b[0;32massert\u001b[0m \u001b[0mos\u001b[0m\u001b[0;34m.\u001b[0m\u001b[0mpath\u001b[0m\u001b[0;34m.\u001b[0m\u001b[0mexists\u001b[0m\u001b[0;34m(\u001b[0m\u001b[0msave_path\u001b[0m\u001b[0;34m)\u001b[0m\u001b[0;34m\u001b[0m\u001b[0;34m\u001b[0m\u001b[0m\n\u001b[0m\u001b[1;32m     14\u001b[0m \u001b[0mquery_dict\u001b[0m  \u001b[0;34m=\u001b[0m \u001b[0mload_pickle\u001b[0m\u001b[0;34m(\u001b[0m\u001b[0msave_path\u001b[0m\u001b[0;34m)\u001b[0m\u001b[0;34m\u001b[0m\u001b[0;34m\u001b[0m\u001b[0m\n\u001b[1;32m     15\u001b[0m \u001b[0;31m# display_query_dict(query_dict)\u001b[0m\u001b[0;34m\u001b[0m\u001b[0;34m\u001b[0m\u001b[0;34m\u001b[0m\u001b[0m\n",
      "\u001b[0;31mAssertionError\u001b[0m: "
     ]
    }
   ],
   "source": [
    "main_folder = \"/scratch/zhiqiu/yfcc100m_all/clip_dataset/images_minbyte_10_valid_uploaded_date_jan_31/clip_dataset/\"\n",
    "# main_folder = \"/compute/autobot-0-19/zhiqiu/yfcc100m_all/clip_dataset/images_minbyte_10_valid_uploaded_date_jan_31/clip_dataset/\"\n",
    "# label_set = \"vehicle_7\"\n",
    "label_set = \"tech_7\"\n",
    "# label_set = \"cifar10\"\n",
    "# detail_str = \"size_1000_doq_True\"\n",
    "# detail_str = \"size_1000_doq_False\"\n",
    "detail_str = \"query_photo_size_1000_nnsize_10000_maxscore\"\n",
    "# detail_str = \"query_none_size_1000_nnsize_10000_maxscore\"\n",
    "\n",
    "save_path = os.path.join(main_folder, label_set, detail_str, \"query_dict.pickle\")\n",
    "print(save_path)\n",
    "assert os.path.exists(save_path)\n",
    "query_dict  = load_pickle(save_path)\n",
    "# display_query_dict(query_dict)\n",
    "display_query_dict_random(query_dict)"
   ]
  },
  {
   "cell_type": "code",
   "execution_count": null,
   "id": "champion-employment",
   "metadata": {},
   "outputs": [],
   "source": [
    "main_folder = \"/scratch/zhiqiu/yfcc100m_all/clip_dataset/images_minbyte_10_valid_uploaded_date_jan_31/clip_dataset/\"\n",
    "# main_folder = \"/compute/autobot-0-19/zhiqiu/yfcc100m_all/clip_dataset/images_minbyte_10_valid_uploaded_date_jan_31/clip_dataset/\"\n",
    "# label_set = \"vehicle_7\"\n",
    "# label_set = \"tech_7\"\n",
    "# label_set = \"sports_30\"\n",
    "label_set = \"fashion_25\"\n",
    "# label_set = \"cifar10\"\n",
    "# detail_str = \"size_1000_doq_True\"\n",
    "# detail_str = \"size_1000_doq_False\"\n",
    "detail_str = \"query_photo_size_1000_nnsize_10000_maxscore\"\n",
    "# detail_str = \"query_none_size_1000_nnsize_10000_maxscore\"\n",
    "\n",
    "save_path = os.path.join(main_folder, label_set, detail_str, \"query_dict.pickle\")\n",
    "print(save_path)\n",
    "assert os.path.exists(save_path)\n",
    "query_dict  = load_pickle(save_path)\n",
    "# display_query_dict(query_dict)\n",
    "display_query_dict_random(query_dict)"
   ]
  },
  {
   "cell_type": "code",
   "execution_count": null,
   "id": "exciting-program",
   "metadata": {},
   "outputs": [],
   "source": [
    "main_folder = \"/scratch/zhiqiu/yfcc100m_all/clip_dataset/images_minbyte_10_valid_uploaded_date_jan_31/clip_dataset_bucketed/\"\n",
    "label_set = \"vehicle_7\"\n",
    "# label_set = \"tech_7\"\n",
    "# label_set = \"sports_30\"\n",
    "label_set = \"cifar100\"\n",
    "label_set = \"imagenet1K\"\n",
    "detail_str = \"query_photo_size_1000_bucket_3\"\n",
    "\n",
    "num_of_buckets = 3\n",
    "\n",
    "\n",
    "def cosine(f_1, f_2):\n",
    "    return 1 - f_1.dot(f_2)\n",
    "\n",
    "def norm_cosine(f_1, f_2):\n",
    "    f_1 = f_1/np.linalg.norm(f_1)\n",
    "    f_2 = f_2/np.linalg.norm(f_2)\n",
    "    return 1 - f_1.dot(f_2)\n",
    "\n",
    "def eu(f_1, f_2):\n",
    "    return np.linalg.norm(f_1 - f_2)\n",
    "\n",
    "DISTANCES = {\n",
    "    'cosine' : cosine,\n",
    "    'norm_cosine' : norm_cosine,\n",
    "    'eu' : eu\n",
    "}\n",
    "\n",
    "\n",
    "def get_feature_mean_list(query, query_dict):\n",
    "    feature_mean_list = []\n",
    "    for b_idx in range(num_of_buckets):\n",
    "#         import pdb; pdb.set_trace()\n",
    "        feature_mean_list.append(query_dict[b_idx][query]['features_mean'])\n",
    "    return feature_mean_list\n",
    "    \n",
    "def gather_distances(query, query_dict):\n",
    "    feature_mean_list = get_feature_mean_list(query, query_dict)\n",
    "    distances = {}\n",
    "    for idx, f in enumerate(feature_mean_list):\n",
    "        if idx == len(feature_mean_list) - 1:\n",
    "            break\n",
    "        for second_idx in range(idx+1, len(feature_mean_list)):\n",
    "            f_2 = feature_mean_list[second_idx]\n",
    "            distance_all = {}\n",
    "            for distance_type in DISTANCES:\n",
    "                distance_all[distance_type] = DISTANCES[distance_type](f, f_2)\n",
    "            distances[(idx, second_idx)] = distance_all\n",
    "    print(query)\n",
    "    ds = {'cosine' : [], 'norm_cosine' : [], 'eu' : []}\n",
    "    for (idx, idx_2) in distances:\n",
    "        d = distances[(idx, idx_2)]\n",
    "        for distance_type in DISTANCES:\n",
    "            ds[distance_type].append(d[distance_type])\n",
    "        print(f\"   {idx}-to-{idx_2}: Cosine({d['cosine']:.5f}) NormCosine({d['norm_cosine']:.5f}) EU({d['eu']:.5f})\")\n",
    "\n",
    "    cos_distance_mean = sum(ds['cosine'])/len(ds['cosine'])\n",
    "    norm_cos_distance_mean = sum(ds['norm_cosine'])/len(ds['norm_cosine'])\n",
    "    eu_distance_mean = sum(ds['eu'])/len(ds['eu'])\n",
    "    cos_distance_first_last = distances[(0, num_of_buckets-1)]['cosine']\n",
    "    norm_cos_distance_first_last = distances[(0, num_of_buckets-1)]['norm_cosine']\n",
    "    eu_distance_first_last = distances[(0, num_of_buckets-1)]['eu']\n",
    "    print(f\"Average: Cos({cos_distance_mean:.5f}), NormCos({norm_cos_distance_mean:.5f}), EU({eu_distance_mean:.5f}) for {query}\")\n",
    "    print(f\"First Last: Cos({cos_distance_first_last:.5f}), NormCos({norm_cos_distance_first_last:.5f}), EU({eu_distance_first_last:.5f}) for {query}\")\n",
    "    return {\n",
    "        'avg': {\n",
    "            \"cosine\" : cos_distance_mean,\n",
    "            'eu' : eu_distance_mean,\n",
    "            'norm_cosine' : norm_cos_distance_mean,\n",
    "        },\n",
    "        'first_last' : {\n",
    "            \"cosine\" : cos_distance_first_last,\n",
    "            'eu' : eu_distance_first_last,\n",
    "            'norm_cosine' : norm_cos_distance_first_last,\n",
    "        }\n",
    "    }\n",
    "\n",
    "def print_all(distances_dict, key='avg', distance_type='cosine'):\n",
    "    distances_dict_summary = []\n",
    "    for query in distances_dict:\n",
    "        # ds = []\n",
    "        # for item in distances_dict[query]:\n",
    "        #     ds.append(distances_dict[query][item]/len(list(distances_dict[query].keys())))\n",
    "        distances_dict_summary.append((distances_dict[query][key][distance_type], query))\n",
    "#     reverse = distance_type == 'eu'\n",
    "    distances_dict_summary = sorted(distances_dict_summary, key=lambda x : x[0], reverse=True)\n",
    "    print(f\"{key}:{distance_type} for {label_set}. Top are:\")\n",
    "    for i in range(len(distances_dict_summary)):\n",
    "        d, q = distances_dict_summary[i]\n",
    "        print(f\"{q:40s}: {d:.5f}\")\n",
    "#     print(f\"{key}:{distance_type} for {label_set}. Bottom are:\")\n",
    "#     for i in range(-1, -6, -1):\n",
    "#         d, q = distances_dict_summary[i]\n",
    "#         print(f\"{q}: {d}\")\n",
    "\n",
    "def print_query_dict(query_dict,  distance_type='norm_cosine'):\n",
    "    distances_dict = {}\n",
    "#     first_key = list(query_dict[0].keys())[0]\n",
    "    for query in query_dict[0]:\n",
    "        query_distances = gather_distances(query, query_dict)\n",
    "        distances_dict[query] = query_distances\n",
    "\n",
    "#     print_all(distances_dict, key='avg', distance_type=distance_type)\n",
    "    print_all(distances_dict, key='first_last', distance_type=distance_type)\n",
    "            "
   ]
  },
  {
   "cell_type": "code",
   "execution_count": null,
   "id": "sufficient-musical",
   "metadata": {
    "scrolled": true
   },
   "outputs": [],
   "source": [
    "\n",
    "save_path = os.path.join(main_folder, label_set, detail_str, \"distances.pickle\")\n",
    "save_path_0 = os.path.join(main_folder, label_set, detail_str, \"0\", \"query_dict.pickle\")\n",
    "save_path_1 = os.path.join(main_folder, label_set, detail_str, \"1\", \"query_dict.pickle\")\n",
    "save_path_2 = os.path.join(main_folder, label_set, detail_str, \"2\", \"query_dict.pickle\")\n",
    "assert os.path.exists(save_path)\n",
    "assert os.path.exists(save_path_0)\n",
    "assert os.path.exists(save_path_1)\n",
    "assert os.path.exists(save_path_2)\n",
    "distance_dict  = load_pickle(save_path)\n",
    "query_dict_0  = load_pickle(save_path_0)\n",
    "query_dict_1  = load_pickle(save_path_1)\n",
    "query_dict_2  = load_pickle(save_path_2)\n",
    "\n",
    "# distance_dict.keys()\n",
    "# print(query_dict_0[0]['A photo of a cat'].keys())\n",
    "# text_feature = query_dict_0[0]['A photo of a cat']['text_feature']\n",
    "# feature_0 = query_dict_0[0]['A photo of a cat']['features'][0]\n",
    "# feature_mean = query_dict_0[0]['A photo of a cat']['features_mean']\n",
    "# print(f\"Text dot 0: {text_feature.dot(feature_0)}\")\n",
    "# print(f\"Text dot mean: {text_feature.dot(feature_mean)}\")\n",
    "# print(f\"mean dot 0: {feature_mean.reshape(1,-1).dot(feature_0)}\")\n",
    "# print(f\"mean dot mean: {feature_mean.reshape(1,-1).dot(feature_mean)}\")\n",
    "# print(f\"0 dot 0: {feature_0.reshape(1,-1).dot(feature_0)}\")\n",
    "# print(feature_mean.shape)\n",
    "# print(text_feature.shape)\n",
    "# print(feature_0.shape)\n",
    "\n",
    "# display_query_dict(query_dict_0[0])\n",
    "print(query_dict_2.keys())\n",
    "print_query_dict(query_dict_2, distance_type='norm_cosine')\n",
    "# print_query_dict(query_dict_2, distance_type='eu')"
   ]
  },
  {
   "cell_type": "code",
   "execution_count": null,
   "id": "executive-swiss",
   "metadata": {},
   "outputs": [],
   "source": [
    "query_dict.keys()"
   ]
  },
  {
   "cell_type": "code",
   "execution_count": null,
   "id": "upset-massachusetts",
   "metadata": {},
   "outputs": [],
   "source": [
    "display_query_dict(query_dict)"
   ]
  },
  {
   "cell_type": "code",
   "execution_count": null,
   "id": "enclosed-soccer",
   "metadata": {},
   "outputs": [],
   "source": [
    "start=900\n",
    "end=start+50\n",
    "# query_name = 'A photo of a motorcycle'\n",
    "# query_name = 'A photo of a frog'\n",
    "query_name = 'frog'\n",
    "display_top_query_from_meta(query_dict[query_name]['metadata'][start:end], fill=False, score_list=query_dict[query_name]['D'][start:end])"
   ]
  },
  {
   "cell_type": "code",
   "execution_count": null,
   "id": "accepted-representation",
   "metadata": {},
   "outputs": [],
   "source": []
  },
  {
   "cell_type": "code",
   "execution_count": null,
   "id": "studied-miniature",
   "metadata": {},
   "outputs": [],
   "source": [
    "folder_path = \"/scratch/zhiqiu/yfcc100m_all/images_minbyte_10_valid_uploaded_date_jan_31/\"\n",
    "# model_name = \"ViT-B/32\"\n",
    "model_name = \"RN50\"\n",
    "\n",
    "\n",
    "# feature_name = faiss_utils.get_feature_name(folder_path, model_name)\n",
    "# normalize_features = load_pickle(feature_name)\n",
    "# normalize_features.dtype == np.float32\n",
    "k_near_faiss = KNearestFaiss(folder_path, model_name)"
   ]
  },
  {
   "cell_type": "code",
   "execution_count": null,
   "id": "partial-identifier",
   "metadata": {},
   "outputs": [],
   "source": [
    "\n",
    "# image_path = \"/compute/autobot-0-19/zhiqiu/yfcc100m_all/images_minbyte_10_valid_uploaded_date_jan_25/1/images/5411319415.jpg\"\n",
    "image_path = '/scratch/zhiqiu/yfcc100m_all/images_minbyte_10_valid_uploaded_date_jan_31/216/images/2375750164.jpg'\n",
    "normalize_image_feature = k_near_faiss.get_normalized_image_feature(image_path)\n",
    "\n",
    "# D, meta_list = k_near_faiss.k_nearest_meta(normalize_image_feature, k=3)\n"
   ]
  },
  {
   "cell_type": "code",
   "execution_count": null,
   "id": "precise-attendance",
   "metadata": {},
   "outputs": [],
   "source": [
    "D, meta_list = k_near_faiss.k_nearest_meta(normalize_image_feature, k=3)"
   ]
  },
  {
   "cell_type": "code",
   "execution_count": null,
   "id": "standard-batch",
   "metadata": {},
   "outputs": [],
   "source": [
    "ImageDisplay(image_path)"
   ]
  },
  {
   "cell_type": "code",
   "execution_count": null,
   "id": "standard-seven",
   "metadata": {},
   "outputs": [],
   "source": [
    "display_top_query_from_meta(meta_list)\n",
    "meta_list[0].get_path()"
   ]
  },
  {
   "cell_type": "code",
   "execution_count": null,
   "id": "absolute-escape",
   "metadata": {},
   "outputs": [],
   "source": [
    "import time\n",
    "def show_top_query_images(query, start_idx=0, end_idx=40, fill=True):\n",
    "    start = time.time()\n",
    "    normalize_text_feature = k_near_faiss.get_normalized_text_feature(query)\n",
    "    end_feature = time.time()\n",
    "    score_list, meta_list = k_near_faiss.k_nearest_meta(normalize_text_feature, k=end_idx)\n",
    "    end_search = time.time()\n",
    "    print(f\"{end_feature-start:.4f} for computing features. {end_search-end_feature} for computing KNN.\")\n",
    "    display_top_query_from_meta(meta_list[start_idx:end_idx], fill=fill, score_list=score_list[start_idx:end_idx])\n",
    "\n",
    "def grab_top_query_images(query, start_idx=0, end_idx=40):\n",
    "    start = time.time()\n",
    "    normalize_text_feature = k_near_faiss.get_normalized_text_feature(query)\n",
    "    end_feature = time.time()\n",
    "    score_list, meta_list = k_near_faiss.k_nearest_meta(normalize_text_feature, k=end_idx)\n",
    "    end_search = time.time()\n",
    "    print(f\"{end_feature-start:.4f} for computing features. {end_search-end_feature} for computing KNN.\")\n",
    "    print(f\"length is {len(meta_list)} and {len(meta_list[start_idx:end_idx])}\")\n",
    "    return score_list[start_idx:end_idx], meta_list[start_idx:end_idx]\n",
    "\n",
    "def grab_top_query_images_difference(query, diff_queries, start_idx=0, end_idx=40, lmb=0.25):\n",
    "    start = time.time()\n",
    "    normalize_text_feature = k_near_faiss.get_text_difference_feature(query, diff_queries=diff_queries, lmb=lmb)\n",
    "    end_feature = time.time()\n",
    "    score_list, meta_list = k_near_faiss.k_nearest_meta(normalize_text_feature, k=end_idx)\n",
    "    end_search = time.time()\n",
    "    print(f\"{end_feature-start:.4f} for computing features. {end_search-end_feature} for computing KNN.\")\n",
    "    print(f\"length is {len(meta_list)} and {len(meta_list[start_idx:end_idx])}\")\n",
    "    return score_list[start_idx:end_idx], meta_list[start_idx:end_idx]\n",
    "#     print(meta_lists[0][7].get_path())"
   ]
  },
  {
   "cell_type": "code",
   "execution_count": null,
   "id": "published-migration",
   "metadata": {},
   "outputs": [],
   "source": [
    "\n",
    "fruit_apple = 'a photo of apple, a type of fruit'\n",
    "phone_apple = 'a photo of apple, a type of phone'\n",
    "logo_apple = 'a photo of apple, a type of logo'\n",
    "expensive_apple = 'a photo of expensive apple'\n",
    "cheap_apple = 'a photo of cheap apple'\n",
    "just_apple = 'a photo of apple'\n",
    "\n",
    "just_an_apple = 'a photo of an apple'\n",
    "just_apples = 'a photo of apples'\n",
    "just_apple = 'a photo of apple'\n",
    "apple_tree = 'a photo of apple tree'\n",
    "\n",
    "no_apple = 'no apple'\n",
    "\n",
    "old_apple = 'a photo of apple, which is old'\n",
    "new_apple = 'a photo of apple, which is new'\n",
    "fresh_apple = 'a photo of apple, which is fresh'\n",
    "rotten_apple = 'rotten apple'\n",
    "pretty_apple = 'a photo of apple, which is pretty'\n",
    "ugly_apple = 'a photo of apple, which is ugly'\n",
    "broken_apple = 'broken apple'\n",
    "no_function_apple = 'not functioning apple'\n",
    "\n",
    "\n",
    "old_car = \"a photo of a car, which is old\"\n",
    "a1980_car = \"a photo of a car in 1980s\"\n",
    "n2004_car = \"a photo of a car in 2004\"\n",
    "n2005_car = \"a photo of a car in 2005\"\n",
    "n2006_car = \"a photo of a car in 2006\"\n",
    "n2007_car = \"a photo of a car in 2007\"\n",
    "n2008_car = \"a photo of a car in 2008\"\n",
    "n2009_car = \"a photo of a car in 2009\"\n",
    "n2010_car = \"a photo of a car in 2010\"\n",
    "n2011_car = \"a photo of a car in 2011\"\n",
    "n2012_car = \"a photo of a car in 2012\"\n",
    "n2013_car = \"a photo of a car in 2013\"\n",
    "n2014_car = \"a photo of a car in 2014\"\n",
    "a2010_car = \"a photo of a car in 2010s\"\n",
    "new_car = \"a photo of a car, which is new\"\n",
    "broken_car = \"a photo of a car, which is broken\"\n",
    "just_car = \"a photo of a car\"\n",
    "\n",
    "old_bike = \"a photo of a bike, which is old\"\n",
    "new_bike = \"a photo of a bike, which is new\"\n",
    "broken_bike = \"a photo of a bike, which is broken\"\n",
    "just_bike = \"a photo of a bike\"\n",
    "\n",
    "old_motorcycle = \"a photo of a motorcycle, which is old\"\n",
    "new_motorcycle = \"a photo of a motorcycle, which is new\"\n",
    "broken_motorcycle = \"a photo of a motorcycle, which is broken\"\n",
    "just_motorcycle = \"a photo of a motorcycle\"\n",
    "just_motorcycles = \"a photo of motorcycles\"\n",
    "\n",
    "old_motorbike = \"a photo of a motorbike, which is old\"\n",
    "new_motorbike = \"a photo of a motorbike, which is new\"\n",
    "broken_motorbike = \"a photo of a motorbike, which is broken\"\n",
    "just_motorbike = \"a photo of a motorbike\"\n",
    "only_motorbike = \"only motorbike\"\n",
    "motorbike_and_car = \"motorbike and car\"\n",
    "\n",
    "no_car_motorbike = \"a photo of a motorbike, no car\"\n",
    "\n",
    "old_jet = \"a photo of a jet, which is old\"\n",
    "new_jet = \"a photo of a jet, which is new\"\n",
    "broken_jet = \"a photo of a jet, which is broken\"\n",
    "\n",
    "old_shirt = \"a photo of a t-shirt, which is old\"\n",
    "new_shirt = \"a photo of a t-shirt, which is new\"\n",
    "\n",
    "n2004 = 'a photo in 2004'\n",
    "n2014 = 'a photo in 2014'\n",
    "n1980 = 'a photo in 1980'\n",
    "n2020 = 'a photo in 2020'\n",
    "\n",
    "\n",
    "mouse_animal = 'a photo of mouse, a type of animal'\n",
    "mouse_accessory = 'a photo of mouse, a type of accessory'\n",
    "just_mouse = 'a photo of mouse'\n",
    "just_star = 'a photo of star'\n",
    "\n",
    "obama = 'obama'\n",
    "trump = 'trump'\n",
    "president = 'a photo of president'\n",
    "curr_president = 'a photo of current president'\n",
    "vice_president = 'a photo of vice president'\n",
    "presidential_debate = \"presidential debate\""
   ]
  },
  {
   "cell_type": "code",
   "execution_count": null,
   "id": "aquatic-turkish",
   "metadata": {},
   "outputs": [],
   "source": [
    "motor_bike_no_car_scores, motor_bike_no_car_lst = grab_top_query_images_difference(\"A photo of a motorcycle\", diff_queries=['A photo of a car'],\\\n",
    "                                                                     start_idx=0, end_idx=10000, lmb=1.)\n"
   ]
  },
  {
   "cell_type": "code",
   "execution_count": null,
   "id": "extra-douglas",
   "metadata": {},
   "outputs": [],
   "source": [
    "start=500\n",
    "end=start+50\n",
    "display_top_query_from_meta(motor_bike_no_car_lst[start:end], fill=False, score_list=motor_bike_no_car_scores[start:end])\n",
    "print(motor_bike_no_car_scores[end])\n",
    "print(motor_bike_no_car_lst[8].get_path())"
   ]
  },
  {
   "cell_type": "code",
   "execution_count": null,
   "id": "played-blind",
   "metadata": {},
   "outputs": [],
   "source": [
    "motor_bike_with_car_scores, motor_bike_with_car_lst = grab_top_query_images_difference(\"A photo of a motorcycle\", diff_queries=['A photo of a car'],\\\n",
    "                                                                     start_idx=0, end_idx=10000, lmb=-1.)\n"
   ]
  },
  {
   "cell_type": "code",
   "execution_count": null,
   "id": "centered-junction",
   "metadata": {},
   "outputs": [],
   "source": [
    "start=100\n",
    "end=start+50\n",
    "display_top_query_from_meta(motor_bike_with_car_lst[start:end], fill=False, score_list=motor_bike_with_car_scores[start:end])"
   ]
  },
  {
   "cell_type": "code",
   "execution_count": null,
   "id": "transsexual-overview",
   "metadata": {
    "scrolled": false
   },
   "outputs": [],
   "source": [
    "# show_top_query_images(\"A photo of motorbike without car\", start_idx=0, end_idx=50, fill=False)\n",
    "motor_bike_scores, motor_bike_lst = grab_top_query_images(\"A photo of a motorcycle\", start_idx=0, end_idx=10000)"
   ]
  },
  {
   "cell_type": "code",
   "execution_count": null,
   "id": "advance-pharmaceutical",
   "metadata": {},
   "outputs": [],
   "source": [
    "plot_scores_jupyter(motor_bike_scores)"
   ]
  },
  {
   "cell_type": "code",
   "execution_count": null,
   "id": "sunrise-cause",
   "metadata": {},
   "outputs": [],
   "source": [
    "def plot_scores_jupyter(score_list, plot_mean=False):\n",
    "    min_count = None\n",
    "    max_count = None\n",
    "    avg_count = 0\n",
    "    for s in score_list:\n",
    "        if not min_count or s < min_count:\n",
    "            min_count = s\n",
    "        if not max_count or s > max_count:\n",
    "            max_count = s\n",
    "        avg_count += s\n",
    "    avg_count = avg_count / len(score_list)\n",
    "\n",
    "    bins = np.linspace(min_count, max_count, 15)\n",
    "    plt.figure(figsize=(8,8))\n",
    "    if plot_mean:\n",
    "        plt.axhline(y=avg_count, label=f\"Mean scores of Samples {avg_count}\", linestyle='--', color='black')\n",
    "    plt.hist(score_list, bins, alpha=0.5, label='Number of samples')\n",
    "    plt.legend(loc='upper right')\n",
    "    plt.tight_layout()"
   ]
  },
  {
   "cell_type": "code",
   "execution_count": null,
   "id": "controversial-confirmation",
   "metadata": {},
   "outputs": [],
   "source": [
    "start=100\n",
    "end=start+50\n",
    "display_top_query_from_meta(motor_bike_lst[start:end], fill=False, score_list=motor_bike_scores[start:end])\n",
    "print(motor_bike_scores[end])\n",
    "print(motor_bike_lst[8].get_path())"
   ]
  },
  {
   "cell_type": "code",
   "execution_count": null,
   "id": "inside-reproduction",
   "metadata": {},
   "outputs": [],
   "source": [
    "motorcycle_with_car_path = \"/scratch/zhiqiu/yfcc100m_all/images_minbyte_10_valid_uploaded_date_jan_31/33/images/3878798703.jpg\"\n",
    "motorcycle_without_car_path = motor_bike_lst[8].get_path()\n",
    "ImageDisplay(motorcycle_with_car_path)\n"
   ]
  },
  {
   "cell_type": "code",
   "execution_count": null,
   "id": "dominant-flood",
   "metadata": {},
   "outputs": [],
   "source": [
    "normalize_image_feature = k_near_faiss.get_normalized_image_feature(motorcycle_with_car_path)\n",
    "D, meta_list = k_near_faiss.k_nearest_meta(normalize_image_feature, k=20)"
   ]
  },
  {
   "cell_type": "code",
   "execution_count": null,
   "id": "global-mistress",
   "metadata": {},
   "outputs": [],
   "source": [
    "idx = 10\n",
    "display_top_query_from_meta(meta_list, fill=False)\n",
    "p = meta_list[idx].get_path()\n",
    "motor_score = k_near_faiss.get_clip_score(p, \"A photo of a motorcycle\")\n",
    "car_score = k_near_faiss.get_clip_score(p, \"A photo of a car\")\n",
    "print(f\"motorcycle score: {motor_score}\")\n",
    "print(f\"car score: {car_score}\")\n",
    "# ImageDisplay(p)"
   ]
  },
  {
   "cell_type": "code",
   "execution_count": null,
   "id": "insured-friendship",
   "metadata": {},
   "outputs": [],
   "source": [
    "motor_score = k_near_faiss.get_clip_score(motorcycle_with_car_path, \"A photo of a motorcycle\")\n",
    "car_score = k_near_faiss.get_clip_score(motorcycle_with_car_path, \"A photo of a car\")\n",
    "print(f\"motorcycle score: {motor_score:.4f}\")\n",
    "print(f\"car score:        {car_score:.4f}\")\n",
    "lmb = 1.0\n",
    "diff_clip_score = k_near_faiss.get_clip_score(motorcycle_with_car_path, query=\"A photo of a motorcycle\",\\\n",
    "                            diff_queries=[\"A photo of a car\"],\\\n",
    "                           lmb=lmb)\n",
    "print(f\"Score difference: {diff_clip_score:.4f}\")\n",
    "ImageDisplay(motorcycle_with_car_path)"
   ]
  },
  {
   "cell_type": "code",
   "execution_count": null,
   "id": "unique-geology",
   "metadata": {},
   "outputs": [],
   "source": [
    "motor_score = k_near_faiss.get_clip_score(motorcycle_without_car_path, \"A photo of a motorcycle\")\n",
    "car_score = k_near_faiss.get_clip_score(motorcycle_without_car_path, \"A photo of a car\")\n",
    "print(f\"motorcycle score: {motor_score:.4f}\")\n",
    "print(f\"car score:        {car_score:.4f}\")\n",
    "lmb = 1.0\n",
    "diff_clip_score = k_near_faiss.get_clip_score(motorcycle_without_car_path, query=\"A photo of a motorcycle\",\\\n",
    "                            diff_queries=[\"A photo of a car\"],\\\n",
    "                           lmb=lmb)\n",
    "print(f\"Score difference: {diff_clip_score:.4f}\")\n",
    "ImageDisplay(motorcycle_without_car_path)"
   ]
  },
  {
   "cell_type": "code",
   "execution_count": null,
   "id": "modular-nicholas",
   "metadata": {},
   "outputs": [],
   "source": [
    "apple_scores, apple_lst = grab_top_query_images(\"A photo of a apple\", start_idx=0, end_idx=10000)"
   ]
  },
  {
   "cell_type": "code",
   "execution_count": null,
   "id": "consistent-fireplace",
   "metadata": {},
   "outputs": [],
   "source": [
    "# display_top_query_from_meta(apple_lst[:50], fill=False, score_list=apple_scores[:50])\n",
    "start=300\n",
    "end=start+50\n",
    "display_top_query_from_meta(apple_lst[start:end], fill=False, score_list=apple_scores[start:end])\n",
    "print(apple_scores[end])"
   ]
  },
  {
   "cell_type": "code",
   "execution_count": null,
   "id": "scientific-painting",
   "metadata": {},
   "outputs": [],
   "source": [
    "plot_scores_jupyter(apple_scores)"
   ]
  },
  {
   "cell_type": "code",
   "execution_count": null,
   "id": "welsh-proposition",
   "metadata": {},
   "outputs": [],
   "source": [
    "bike_scores, bike_lst = grab_top_query_images(\"A photo of a bike\", start_idx=0, end_idx=10000)"
   ]
  },
  {
   "cell_type": "code",
   "execution_count": null,
   "id": "right-heart",
   "metadata": {},
   "outputs": [],
   "source": [
    "start=600\n",
    "end=start+50\n",
    "display_top_query_from_meta(bike_lst[start:end], fill=False, score_list=bike_scores[start:end])\n",
    "print(bike_scores[end])\n",
    "# print(bike_lst[8].get_path())"
   ]
  },
  {
   "cell_type": "code",
   "execution_count": null,
   "id": "opened-maple",
   "metadata": {},
   "outputs": [],
   "source": [
    "bike_no_motor_bike_scores, bike_no_motor_bike_lst = grab_top_query_images_difference(\"A photo of a bike\", diff_queries=['A photo of a motorcycle'],\\\n",
    "                                                                     start_idx=0, end_idx=10000, lmb=1.)\n",
    "\n"
   ]
  },
  {
   "cell_type": "code",
   "execution_count": null,
   "id": "guided-pound",
   "metadata": {},
   "outputs": [],
   "source": [
    "start=500\n",
    "end=start+50\n",
    "display_top_query_from_meta(bike_no_motor_bike_lst[start:end], fill=False, score_list=bike_no_motor_bike_scores[start:end])\n",
    "print(bike_no_motor_bike_scores[end])"
   ]
  },
  {
   "cell_type": "code",
   "execution_count": null,
   "id": "adjacent-triangle",
   "metadata": {},
   "outputs": [],
   "source": [
    "bike_no_motor_bike_no_car_scores, bike_no_motor_bike_no_car_lst = grab_top_query_images_difference(\"A photo of a bike\", \\\n",
    "                                                                                                   diff_queries=['A photo of a motorcycle', 'A photo of a car'],\\\n",
    "                                                                     start_idx=0, end_idx=10000, lmb=1.)\n",
    "\n",
    "\n"
   ]
  },
  {
   "cell_type": "code",
   "execution_count": null,
   "id": "frequent-sierra",
   "metadata": {},
   "outputs": [],
   "source": [
    "start=600\n",
    "end=start+50\n",
    "display_top_query_from_meta(bike_no_motor_bike_no_car_lst[start:end], fill=False, score_list=bike_no_motor_bike_no_car_scores[start:end])\n",
    "print(bike_no_motor_bike_no_car_scores[end])"
   ]
  },
  {
   "cell_type": "code",
   "execution_count": null,
   "id": "tribal-draft",
   "metadata": {},
   "outputs": [],
   "source": [
    "car_scores, car_lst = grab_top_query_images(\"A photo of car\", start_idx=0, end_idx=4000)"
   ]
  },
  {
   "cell_type": "code",
   "execution_count": null,
   "id": "crude-ordinance",
   "metadata": {},
   "outputs": [],
   "source": []
  },
  {
   "cell_type": "code",
   "execution_count": null,
   "id": "interested-protocol",
   "metadata": {},
   "outputs": [],
   "source": [
    "# meta_lst = grab_top_query_images(phone_apple, start_idx=0, end_idx=2049)\n",
    "# plot_time_jupyter(meta_lst)"
   ]
  },
  {
   "cell_type": "code",
   "execution_count": null,
   "id": "placed-rental",
   "metadata": {},
   "outputs": [],
   "source": [
    "lst = grab_top_query_images(fruit_apple, start_idx=0, end_idx=500)\n",
    "plot_time_jupyter(lst)"
   ]
  },
  {
   "cell_type": "code",
   "execution_count": null,
   "id": "adaptive-research",
   "metadata": {},
   "outputs": [],
   "source": [
    "lst = grab_top_query_images(fruit_apple, start_idx=0, end_idx=5000)\n",
    "plot_time_jupyter(lst)"
   ]
  },
  {
   "cell_type": "code",
   "execution_count": null,
   "id": "precious-digest",
   "metadata": {},
   "outputs": [],
   "source": [
    "# ImageDisplay(\"/scratch/zhiqiu/yfcc100m_all/images_minbyte_10_valid_uploaded_date_jan_25/37/images/11052978605.png\")"
   ]
  }
 ],
 "metadata": {
  "kernelspec": {
   "display_name": "Python 3",
   "language": "python",
   "name": "python3"
  },
  "language_info": {
   "codemirror_mode": {
    "name": "ipython",
    "version": 3
   },
   "file_extension": ".py",
   "mimetype": "text/x-python",
   "name": "python",
   "nbconvert_exporter": "python",
   "pygments_lexer": "ipython3",
   "version": "3.8.5"
  }
 },
 "nbformat": 4,
 "nbformat_minor": 5
}
