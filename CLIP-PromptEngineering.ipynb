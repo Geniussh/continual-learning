{
 "cells": [
  {
   "cell_type": "code",
   "execution_count": 1,
   "id": "tamil-enemy",
   "metadata": {},
   "outputs": [],
   "source": [
    "%matplotlib inline\n",
    "import matplotlib.pyplot as plt\n",
    "\n",
    "import sys\n",
    "sys.path.append(\"./CLIP\")\n",
    "import clip\n",
    "import os\n",
    "import torch\n",
    "from PIL import Image\n",
    "from IPython.display import Image as ImageDisplay\n",
    "from utils import load_pickle\n",
    "import faiss_utils\n",
    "from faiss_utils import KNearestFaiss\n",
    "import numpy as np\n",
    "from matplotlib.image import imread\n",
    "from matplotlib.pyplot import figure, imshow, axis\n",
    "from jupyter_utils import plot_time_jupyter, plot_scores_jupyter\n",
    "\n",
    "device = \"cuda\" if torch.cuda.is_available() else \"cpu\""
   ]
  },
  {
   "cell_type": "code",
   "execution_count": 2,
   "id": "breeding-puppy",
   "metadata": {},
   "outputs": [],
   "source": [
    "def display_top_query_from_meta(metadata_list, fill=True, score_list=[]):\n",
    "    list_of_files = [meta.get_path() for meta in metadata_list]\n",
    "    show_images(list_of_files, fill=fill, score_list=score_list)\n",
    "        \n",
    "\n",
    "def show_images(list_of_files, fill=True, score_list=[]):\n",
    "    block_size = int(len(list_of_files)/20)\n",
    "    size = (20+20*block_size,20+90*block_size)\n",
    "    print(size)\n",
    "    fig = figure(figsize=size, tight_layout=True)\n",
    "    number_of_files = len(list_of_files)\n",
    "    for i in range(number_of_files):\n",
    "        a=fig.add_subplot(number_of_files,3,i+1)\n",
    "        image = imread(list_of_files[i])\n",
    "#         imshow(image,cmap='Greys_r')\n",
    "        if fill:\n",
    "            imshow(image,aspect=\"auto\")\n",
    "        else:\n",
    "            imshow(image)\n",
    "        if len(score_list) > 0:\n",
    "            title=score_list[i]\n",
    "            plt.title(title, fontsize=30); \n",
    "        axis('off')\n",
    "\n",
    "def display_query_dict_random(query_dict, class_start=0, class_end=9, fill=False):\n",
    "    query_names = list(query_dict.keys())[class_start:class_end+1]\n",
    "    image_dict = {}\n",
    "    rank_list=list(range(0, 999, 40))\n",
    "    for query_name in query_names:\n",
    "        list_of_files, list_of_scores, rank_list = select_from_meta(query_dict[query_name]['metadata'], query_dict[query_name]['D'], rank_list=rank_list)\n",
    "        image_dict[query_name] = list_of_files, list_of_scores\n",
    "    show_image_dict(image_dict, fill=fill)\n",
    "\n",
    "def display_query_dict(query_dict, class_start=0, class_end=9, fill=False):\n",
    "    query_names = list(query_dict.keys())[class_start:class_end+1]\n",
    "    image_dict = {}\n",
    "    for query_name in query_names:\n",
    "        list_of_files, list_of_scores, rank_list = select_from_meta(query_dict[query_name]['metadata'], query_dict[query_name]['D'])\n",
    "        image_dict[query_name] = list_of_files, list_of_scores\n",
    "    show_image_dict(image_dict, fill=fill)\n",
    "        \n",
    "    \n",
    "def select_from_meta(metadata_list, score_list, rank_list=[0, 199, 399, 599, 799, 999]):\n",
    "    list_of_files = [metadata_list[rank].get_path() for rank in rank_list]\n",
    "    list_of_scores = [score_list[rank] for rank in rank_list]\n",
    "    return list_of_files, list_of_scores, rank_list\n",
    "\n",
    "def show_image_dict(image_dict, fill=True):\n",
    "    block_size = 2\n",
    "    size = (20+20*block_size,20+90*block_size)\n",
    "    size = (20+20*block_size,20+420*block_size)\n",
    "    print(size)\n",
    "    fig = figure(figsize=size, tight_layout=True)\n",
    "    number_of_queries = len(image_dict.keys())\n",
    "    list_of_files = []\n",
    "    list_of_scores = []\n",
    "    list_of_queries = []\n",
    "    for query in image_dict.keys():\n",
    "        files, scores= image_dict[query]\n",
    "        list_of_files += files\n",
    "        list_of_queries += [query for _ in files]\n",
    "        list_of_scores += scores\n",
    "        length_per_query = len(files)\n",
    "    number_of_files = len(list_of_files)\n",
    "    \n",
    "    for i in range(number_of_files):\n",
    "        a=fig.add_subplot(number_of_files,int(length_per_query/5),i+1)\n",
    "        if i % length_per_query == 0:\n",
    "            a.set_ylabel(list_of_queries[i],  fontsize=28)\n",
    "\n",
    "        image = imread(list_of_files[i])\n",
    "#         imshow(image,cmap='Greys_r')\n",
    "        if fill:\n",
    "            imshow(image,aspect=\"auto\")\n",
    "        else:\n",
    "            imshow(image)\n",
    "        if len(list_of_scores) > 0:\n",
    "            title=list_of_scores[i]\n",
    "            plt.title(title, fontsize=30); \n",
    "        axis('on')"
   ]
  },
  {
   "cell_type": "code",
   "execution_count": 5,
   "id": "studied-miniature",
   "metadata": {},
   "outputs": [
    {
     "name": "stdout",
     "output_type": "stream",
     "text": [
      "Loading from folder /scratch/zhiqiu/yfcc100m_all/images_minbyte_10_valid_uploaded_date_jan_31/all_folders.pickle\n",
      "Size of dataset is 2740000\n",
      "Need to use brute force search without building an index\n"
     ]
    }
   ],
   "source": [
    "folder_path = \"/scratch/zhiqiu/yfcc100m_all/images_minbyte_10_valid_uploaded_date_feb_28/\"\n",
    "# model_name = \"ViT-B/32\"\n",
    "model_name = \"RN50\"\n",
    "\n",
    "\n",
    "# feature_name = faiss_utils.get_feature_name(folder_path, model_name)\n",
    "# normalize_features = load_pickle(feature_name)\n",
    "# normalize_features.dtype == np.float32\n",
    "k_near_faiss = KNearestFaiss(folder_path, model_name)"
   ]
  },
  {
   "cell_type": "code",
   "execution_count": 6,
   "id": "partial-identifier",
   "metadata": {},
   "outputs": [],
   "source": [
    "\n",
    "# image_path = \"/compute/autobot-0-19/zhiqiu/yfcc100m_all/images_minbyte_10_valid_uploaded_date_jan_25/1/images/5411319415.jpg\"\n",
    "image_path = '/scratch/zhiqiu/yfcc100m_all/images_minbyte_10_valid_uploaded_date_jan_31/216/images/2375750164.jpg'\n",
    "normalize_image_feature = k_near_faiss.get_normalized_image_feature(image_path)\n",
    "\n",
    "# D, meta_list = k_near_faiss.k_nearest_meta(normalize_image_feature, k=3)\n"
   ]
  },
  {
   "cell_type": "code",
   "execution_count": 7,
   "id": "precise-attendance",
   "metadata": {},
   "outputs": [
    {
     "ename": "RuntimeError",
     "evalue": "Error in virtual void* faiss::gpu::StandardGpuResourcesImpl::allocMemory(const faiss::gpu::AllocRequest&) at /__w/faiss-wheels/faiss-wheels/faiss/faiss/gpu/StandardGpuResources.cpp:410: Error: 'err == cudaSuccess' failed: Failed to cudaMalloc 1610612736 bytes on device 0 (error 2 out of memory\nOutstanding allocations:\n",
     "output_type": "error",
     "traceback": [
      "\u001b[0;31m---------------------------------------------------------------------------\u001b[0m",
      "\u001b[0;31mRuntimeError\u001b[0m                              Traceback (most recent call last)",
      "\u001b[0;32m<ipython-input-7-c7746428e044>\u001b[0m in \u001b[0;36m<module>\u001b[0;34m\u001b[0m\n\u001b[0;32m----> 1\u001b[0;31m \u001b[0mD\u001b[0m\u001b[0;34m,\u001b[0m \u001b[0mmeta_list\u001b[0m \u001b[0;34m=\u001b[0m \u001b[0mk_near_faiss\u001b[0m\u001b[0;34m.\u001b[0m\u001b[0mk_nearest_meta\u001b[0m\u001b[0;34m(\u001b[0m\u001b[0mnormalize_image_feature\u001b[0m\u001b[0;34m,\u001b[0m \u001b[0mk\u001b[0m\u001b[0;34m=\u001b[0m\u001b[0;36m3\u001b[0m\u001b[0;34m)\u001b[0m\u001b[0;34m\u001b[0m\u001b[0;34m\u001b[0m\u001b[0m\n\u001b[0m",
      "\u001b[0;32m/project_data/ramanan/zhiqiu/continual-learning/faiss_utils.py\u001b[0m in \u001b[0;36mk_nearest_meta\u001b[0;34m(self, feature, k)\u001b[0m\n\u001b[1;32m    305\u001b[0m     \u001b[0;32mdef\u001b[0m \u001b[0mk_nearest_meta\u001b[0m\u001b[0;34m(\u001b[0m\u001b[0mself\u001b[0m\u001b[0;34m,\u001b[0m \u001b[0mfeature\u001b[0m\u001b[0;34m,\u001b[0m \u001b[0mk\u001b[0m\u001b[0;34m=\u001b[0m\u001b[0;36m4\u001b[0m\u001b[0;34m)\u001b[0m\u001b[0;34m:\u001b[0m\u001b[0;34m\u001b[0m\u001b[0;34m\u001b[0m\u001b[0m\n\u001b[1;32m    306\u001b[0m         \u001b[0;31m# feature is length d numpy array of float32\u001b[0m\u001b[0;34m\u001b[0m\u001b[0;34m\u001b[0m\u001b[0;34m\u001b[0m\u001b[0m\n\u001b[0;32m--> 307\u001b[0;31m         \u001b[0mD\u001b[0m\u001b[0;34m,\u001b[0m \u001b[0mI\u001b[0m \u001b[0;34m=\u001b[0m \u001b[0mself\u001b[0m\u001b[0;34m.\u001b[0m\u001b[0mk_nearest\u001b[0m\u001b[0;34m(\u001b[0m\u001b[0mfeature\u001b[0m\u001b[0;34m,\u001b[0m \u001b[0mk\u001b[0m\u001b[0;34m=\u001b[0m\u001b[0mk\u001b[0m\u001b[0;34m)\u001b[0m\u001b[0;34m\u001b[0m\u001b[0;34m\u001b[0m\u001b[0m\n\u001b[0m\u001b[1;32m    308\u001b[0m         \u001b[0mmeta_list\u001b[0m \u001b[0;34m=\u001b[0m \u001b[0;34m[\u001b[0m\u001b[0;34m]\u001b[0m\u001b[0;34m\u001b[0m\u001b[0;34m\u001b[0m\u001b[0m\n\u001b[1;32m    309\u001b[0m         \u001b[0;32mfor\u001b[0m \u001b[0midx\u001b[0m \u001b[0;32min\u001b[0m \u001b[0mI\u001b[0m\u001b[0;34m:\u001b[0m\u001b[0;34m\u001b[0m\u001b[0;34m\u001b[0m\u001b[0m\n",
      "\u001b[0;32m/project_data/ramanan/zhiqiu/continual-learning/faiss_utils.py\u001b[0m in \u001b[0;36mk_nearest\u001b[0;34m(self, feature, k)\u001b[0m\n\u001b[1;32m    285\u001b[0m                 \u001b[0msize_chunk\u001b[0m \u001b[0;34m=\u001b[0m \u001b[0mlen\u001b[0m\u001b[0;34m(\u001b[0m\u001b[0mchunk\u001b[0m\u001b[0;34m)\u001b[0m\u001b[0;34m\u001b[0m\u001b[0;34m\u001b[0m\u001b[0m\n\u001b[1;32m    286\u001b[0m                 \u001b[0mstart\u001b[0m \u001b[0;34m=\u001b[0m \u001b[0mtime\u001b[0m\u001b[0;34m.\u001b[0m\u001b[0mtime\u001b[0m\u001b[0;34m(\u001b[0m\u001b[0;34m)\u001b[0m\u001b[0;34m\u001b[0m\u001b[0;34m\u001b[0m\u001b[0m\n\u001b[0;32m--> 287\u001b[0;31m                 \u001b[0mD\u001b[0m\u001b[0;34m,\u001b[0m \u001b[0mI\u001b[0m \u001b[0;34m=\u001b[0m \u001b[0mknn_ground_truth\u001b[0m\u001b[0;34m(\u001b[0m\u001b[0mfeature\u001b[0m\u001b[0;34m,\u001b[0m \u001b[0mmatrix_iterator\u001b[0m\u001b[0;34m(\u001b[0m\u001b[0mself\u001b[0m\u001b[0;34m.\u001b[0m\u001b[0mnormalize_features\u001b[0m\u001b[0;34m[\u001b[0m\u001b[0mmapping\u001b[0m\u001b[0;34m]\u001b[0m\u001b[0;34m,\u001b[0m \u001b[0mMAX_SIZE\u001b[0m\u001b[0;34m)\u001b[0m\u001b[0;34m,\u001b[0m \u001b[0msize_chunk\u001b[0m\u001b[0;34m)\u001b[0m\u001b[0;34m\u001b[0m\u001b[0;34m\u001b[0m\u001b[0m\n\u001b[0m\u001b[1;32m    288\u001b[0m                 \u001b[0mend_search\u001b[0m \u001b[0;34m=\u001b[0m \u001b[0mtime\u001b[0m\u001b[0;34m.\u001b[0m\u001b[0mtime\u001b[0m\u001b[0;34m(\u001b[0m\u001b[0;34m)\u001b[0m\u001b[0;34m\u001b[0m\u001b[0;34m\u001b[0m\u001b[0m\n\u001b[1;32m    289\u001b[0m                 \u001b[0mall_D\u001b[0m \u001b[0;34m+=\u001b[0m \u001b[0mlist\u001b[0m\u001b[0;34m(\u001b[0m\u001b[0mD\u001b[0m\u001b[0;34m[\u001b[0m\u001b[0;36m0\u001b[0m\u001b[0;34m]\u001b[0m\u001b[0;34m)\u001b[0m\u001b[0;34m\u001b[0m\u001b[0;34m\u001b[0m\u001b[0m\n",
      "\u001b[0;32m/project_data/ramanan/zhiqiu/continual-learning/faiss_utils.py\u001b[0m in \u001b[0;36mknn_ground_truth\u001b[0;34m(xq, db_iterator, k)\u001b[0m\n\u001b[1;32m    131\u001b[0m     \u001b[0mindex\u001b[0m \u001b[0;34m=\u001b[0m \u001b[0mfaiss\u001b[0m\u001b[0;34m.\u001b[0m\u001b[0mIndexFlatIP\u001b[0m\u001b[0;34m(\u001b[0m\u001b[0md\u001b[0m\u001b[0;34m)\u001b[0m\u001b[0;34m\u001b[0m\u001b[0;34m\u001b[0m\u001b[0m\n\u001b[1;32m    132\u001b[0m     \u001b[0;32mif\u001b[0m \u001b[0mfaiss\u001b[0m\u001b[0;34m.\u001b[0m\u001b[0mget_num_gpus\u001b[0m\u001b[0;34m(\u001b[0m\u001b[0;34m)\u001b[0m\u001b[0;34m:\u001b[0m\u001b[0;34m\u001b[0m\u001b[0;34m\u001b[0m\u001b[0m\n\u001b[0;32m--> 133\u001b[0;31m         \u001b[0mindex\u001b[0m \u001b[0;34m=\u001b[0m \u001b[0mfaiss\u001b[0m\u001b[0;34m.\u001b[0m\u001b[0mindex_cpu_to_all_gpus\u001b[0m\u001b[0;34m(\u001b[0m\u001b[0mindex\u001b[0m\u001b[0;34m)\u001b[0m\u001b[0;34m\u001b[0m\u001b[0;34m\u001b[0m\u001b[0m\n\u001b[0m\u001b[1;32m    134\u001b[0m \u001b[0;34m\u001b[0m\u001b[0m\n\u001b[1;32m    135\u001b[0m     \u001b[0;31m# compute ground-truth by blocks of bs, and add to heaps\u001b[0m\u001b[0;34m\u001b[0m\u001b[0;34m\u001b[0m\u001b[0;34m\u001b[0m\u001b[0m\n",
      "\u001b[0;32m~/anaconda3/envs/clip/lib/python3.8/site-packages/faiss/__init__.py\u001b[0m in \u001b[0;36mindex_cpu_to_all_gpus\u001b[0;34m(index, co, ngpu)\u001b[0m\n\u001b[1;32m    530\u001b[0m \u001b[0;34m\u001b[0m\u001b[0m\n\u001b[1;32m    531\u001b[0m \u001b[0;32mdef\u001b[0m \u001b[0mindex_cpu_to_all_gpus\u001b[0m\u001b[0;34m(\u001b[0m\u001b[0mindex\u001b[0m\u001b[0;34m,\u001b[0m \u001b[0mco\u001b[0m\u001b[0;34m=\u001b[0m\u001b[0;32mNone\u001b[0m\u001b[0;34m,\u001b[0m \u001b[0mngpu\u001b[0m\u001b[0;34m=\u001b[0m\u001b[0;34m-\u001b[0m\u001b[0;36m1\u001b[0m\u001b[0;34m)\u001b[0m\u001b[0;34m:\u001b[0m\u001b[0;34m\u001b[0m\u001b[0;34m\u001b[0m\u001b[0m\n\u001b[0;32m--> 532\u001b[0;31m     \u001b[0mindex_gpu\u001b[0m \u001b[0;34m=\u001b[0m \u001b[0mindex_cpu_to_gpus_list\u001b[0m\u001b[0;34m(\u001b[0m\u001b[0mindex\u001b[0m\u001b[0;34m,\u001b[0m \u001b[0mco\u001b[0m\u001b[0;34m=\u001b[0m\u001b[0mco\u001b[0m\u001b[0;34m,\u001b[0m \u001b[0mgpus\u001b[0m\u001b[0;34m=\u001b[0m\u001b[0;32mNone\u001b[0m\u001b[0;34m,\u001b[0m \u001b[0mngpu\u001b[0m\u001b[0;34m=\u001b[0m\u001b[0mngpu\u001b[0m\u001b[0;34m)\u001b[0m\u001b[0;34m\u001b[0m\u001b[0;34m\u001b[0m\u001b[0m\n\u001b[0m\u001b[1;32m    533\u001b[0m     \u001b[0;32mreturn\u001b[0m \u001b[0mindex_gpu\u001b[0m\u001b[0;34m\u001b[0m\u001b[0;34m\u001b[0m\u001b[0m\n\u001b[1;32m    534\u001b[0m \u001b[0;34m\u001b[0m\u001b[0m\n",
      "\u001b[0;32m~/anaconda3/envs/clip/lib/python3.8/site-packages/faiss/__init__.py\u001b[0m in \u001b[0;36mindex_cpu_to_gpus_list\u001b[0;34m(index, co, gpus, ngpu)\u001b[0m\n\u001b[1;32m    542\u001b[0m         \u001b[0mgpus\u001b[0m \u001b[0;34m=\u001b[0m \u001b[0mrange\u001b[0m\u001b[0;34m(\u001b[0m\u001b[0mngpu\u001b[0m\u001b[0;34m)\u001b[0m\u001b[0;34m\u001b[0m\u001b[0;34m\u001b[0m\u001b[0m\n\u001b[1;32m    543\u001b[0m     \u001b[0mres\u001b[0m \u001b[0;34m=\u001b[0m \u001b[0;34m[\u001b[0m\u001b[0mStandardGpuResources\u001b[0m\u001b[0;34m(\u001b[0m\u001b[0;34m)\u001b[0m \u001b[0;32mfor\u001b[0m \u001b[0m_\u001b[0m \u001b[0;32min\u001b[0m \u001b[0mgpus\u001b[0m\u001b[0;34m]\u001b[0m\u001b[0;34m\u001b[0m\u001b[0;34m\u001b[0m\u001b[0m\n\u001b[0;32m--> 544\u001b[0;31m     \u001b[0mindex_gpu\u001b[0m \u001b[0;34m=\u001b[0m \u001b[0mindex_cpu_to_gpu_multiple_py\u001b[0m\u001b[0;34m(\u001b[0m\u001b[0mres\u001b[0m\u001b[0;34m,\u001b[0m \u001b[0mindex\u001b[0m\u001b[0;34m,\u001b[0m \u001b[0mco\u001b[0m\u001b[0;34m,\u001b[0m \u001b[0mgpus\u001b[0m\u001b[0;34m)\u001b[0m\u001b[0;34m\u001b[0m\u001b[0;34m\u001b[0m\u001b[0m\n\u001b[0m\u001b[1;32m    545\u001b[0m     \u001b[0;32mreturn\u001b[0m \u001b[0mindex_gpu\u001b[0m\u001b[0;34m\u001b[0m\u001b[0;34m\u001b[0m\u001b[0m\n\u001b[1;32m    546\u001b[0m \u001b[0;34m\u001b[0m\u001b[0m\n",
      "\u001b[0;32m~/anaconda3/envs/clip/lib/python3.8/site-packages/faiss/__init__.py\u001b[0m in \u001b[0;36mindex_cpu_to_gpu_multiple_py\u001b[0;34m(resources, index, co, gpus)\u001b[0m\n\u001b[1;32m    525\u001b[0m         \u001b[0mvdev\u001b[0m\u001b[0;34m.\u001b[0m\u001b[0mpush_back\u001b[0m\u001b[0;34m(\u001b[0m\u001b[0mi\u001b[0m\u001b[0;34m)\u001b[0m\u001b[0;34m\u001b[0m\u001b[0;34m\u001b[0m\u001b[0m\n\u001b[1;32m    526\u001b[0m         \u001b[0mvres\u001b[0m\u001b[0;34m.\u001b[0m\u001b[0mpush_back\u001b[0m\u001b[0;34m(\u001b[0m\u001b[0mres\u001b[0m\u001b[0;34m)\u001b[0m\u001b[0;34m\u001b[0m\u001b[0;34m\u001b[0m\u001b[0m\n\u001b[0;32m--> 527\u001b[0;31m     \u001b[0mindex\u001b[0m \u001b[0;34m=\u001b[0m \u001b[0mindex_cpu_to_gpu_multiple\u001b[0m\u001b[0;34m(\u001b[0m\u001b[0mvres\u001b[0m\u001b[0;34m,\u001b[0m \u001b[0mvdev\u001b[0m\u001b[0;34m,\u001b[0m \u001b[0mindex\u001b[0m\u001b[0;34m,\u001b[0m \u001b[0mco\u001b[0m\u001b[0;34m)\u001b[0m\u001b[0;34m\u001b[0m\u001b[0;34m\u001b[0m\u001b[0m\n\u001b[0m\u001b[1;32m    528\u001b[0m     \u001b[0;32mreturn\u001b[0m \u001b[0mindex\u001b[0m\u001b[0;34m\u001b[0m\u001b[0;34m\u001b[0m\u001b[0m\n\u001b[1;32m    529\u001b[0m \u001b[0;34m\u001b[0m\u001b[0m\n",
      "\u001b[0;32m~/anaconda3/envs/clip/lib/python3.8/site-packages/faiss/swigfaiss.py\u001b[0m in \u001b[0;36mindex_cpu_to_gpu_multiple\u001b[0;34m(provider, devices, index, options)\u001b[0m\n\u001b[1;32m   5536\u001b[0m \u001b[0;34m\u001b[0m\u001b[0m\n\u001b[1;32m   5537\u001b[0m \u001b[0;32mdef\u001b[0m \u001b[0mindex_cpu_to_gpu_multiple\u001b[0m\u001b[0;34m(\u001b[0m\u001b[0mprovider\u001b[0m\u001b[0;34m,\u001b[0m \u001b[0mdevices\u001b[0m\u001b[0;34m,\u001b[0m \u001b[0mindex\u001b[0m\u001b[0;34m,\u001b[0m \u001b[0moptions\u001b[0m\u001b[0;34m=\u001b[0m\u001b[0;32mNone\u001b[0m\u001b[0;34m)\u001b[0m\u001b[0;34m:\u001b[0m\u001b[0;34m\u001b[0m\u001b[0;34m\u001b[0m\u001b[0m\n\u001b[0;32m-> 5538\u001b[0;31m     \u001b[0;32mreturn\u001b[0m \u001b[0m_swigfaiss\u001b[0m\u001b[0;34m.\u001b[0m\u001b[0mindex_cpu_to_gpu_multiple\u001b[0m\u001b[0;34m(\u001b[0m\u001b[0mprovider\u001b[0m\u001b[0;34m,\u001b[0m \u001b[0mdevices\u001b[0m\u001b[0;34m,\u001b[0m \u001b[0mindex\u001b[0m\u001b[0;34m,\u001b[0m \u001b[0moptions\u001b[0m\u001b[0;34m)\u001b[0m\u001b[0;34m\u001b[0m\u001b[0;34m\u001b[0m\u001b[0m\n\u001b[0m\u001b[1;32m   5539\u001b[0m \u001b[0;32mclass\u001b[0m \u001b[0mPyCallbackIOWriter\u001b[0m\u001b[0;34m(\u001b[0m\u001b[0mIOWriter\u001b[0m\u001b[0;34m)\u001b[0m\u001b[0;34m:\u001b[0m\u001b[0;34m\u001b[0m\u001b[0;34m\u001b[0m\u001b[0m\n\u001b[1;32m   5540\u001b[0m     \u001b[0mthisown\u001b[0m \u001b[0;34m=\u001b[0m \u001b[0mproperty\u001b[0m\u001b[0;34m(\u001b[0m\u001b[0;32mlambda\u001b[0m \u001b[0mx\u001b[0m\u001b[0;34m:\u001b[0m \u001b[0mx\u001b[0m\u001b[0;34m.\u001b[0m\u001b[0mthis\u001b[0m\u001b[0;34m.\u001b[0m\u001b[0mown\u001b[0m\u001b[0;34m(\u001b[0m\u001b[0;34m)\u001b[0m\u001b[0;34m,\u001b[0m \u001b[0;32mlambda\u001b[0m \u001b[0mx\u001b[0m\u001b[0;34m,\u001b[0m \u001b[0mv\u001b[0m\u001b[0;34m:\u001b[0m \u001b[0mx\u001b[0m\u001b[0;34m.\u001b[0m\u001b[0mthis\u001b[0m\u001b[0;34m.\u001b[0m\u001b[0mown\u001b[0m\u001b[0;34m(\u001b[0m\u001b[0mv\u001b[0m\u001b[0;34m)\u001b[0m\u001b[0;34m,\u001b[0m \u001b[0mdoc\u001b[0m\u001b[0;34m=\u001b[0m\u001b[0;34m\"The membership flag\"\u001b[0m\u001b[0;34m)\u001b[0m\u001b[0;34m\u001b[0m\u001b[0;34m\u001b[0m\u001b[0m\n",
      "\u001b[0;31mRuntimeError\u001b[0m: Error in virtual void* faiss::gpu::StandardGpuResourcesImpl::allocMemory(const faiss::gpu::AllocRequest&) at /__w/faiss-wheels/faiss-wheels/faiss/faiss/gpu/StandardGpuResources.cpp:410: Error: 'err == cudaSuccess' failed: Failed to cudaMalloc 1610612736 bytes on device 0 (error 2 out of memory\nOutstanding allocations:\n"
     ]
    }
   ],
   "source": [
    "D, meta_list = k_near_faiss.k_nearest_meta(normalize_image_feature, k=3)"
   ]
  },
  {
   "cell_type": "code",
   "execution_count": null,
   "id": "standard-batch",
   "metadata": {},
   "outputs": [],
   "source": [
    "ImageDisplay(image_path)"
   ]
  },
  {
   "cell_type": "code",
   "execution_count": null,
   "id": "standard-seven",
   "metadata": {},
   "outputs": [],
   "source": [
    "display_top_query_from_meta(meta_list)\n",
    "meta_list[0].get_path()"
   ]
  },
  {
   "cell_type": "code",
   "execution_count": null,
   "id": "absolute-escape",
   "metadata": {},
   "outputs": [],
   "source": [
    "import time\n",
    "def show_top_query_images(query, start_idx=0, end_idx=40, fill=True):\n",
    "    start = time.time()\n",
    "    normalize_text_feature = k_near_faiss.get_normalized_text_feature(query)\n",
    "    end_feature = time.time()\n",
    "    score_list, meta_list = k_near_faiss.k_nearest_meta(normalize_text_feature, k=end_idx)\n",
    "    end_search = time.time()\n",
    "    print(f\"{end_feature-start:.4f} for computing features. {end_search-end_feature} for computing KNN.\")\n",
    "    display_top_query_from_meta(meta_list[start_idx:end_idx], fill=fill, score_list=score_list[start_idx:end_idx])\n",
    "\n",
    "def grab_top_query_images(query, start_idx=0, end_idx=40):\n",
    "    start = time.time()\n",
    "    normalize_text_feature = k_near_faiss.get_normalized_text_feature(query)\n",
    "    end_feature = time.time()\n",
    "    score_list, meta_list = k_near_faiss.k_nearest_meta(normalize_text_feature, k=end_idx)\n",
    "    end_search = time.time()\n",
    "    print(f\"{end_feature-start:.4f} for computing features. {end_search-end_feature} for computing KNN.\")\n",
    "    print(f\"length is {len(meta_list)} and {len(meta_list[start_idx:end_idx])}\")\n",
    "    return score_list[start_idx:end_idx], meta_list[start_idx:end_idx]\n",
    "\n",
    "def grab_top_query_images_difference(query, diff_queries, start_idx=0, end_idx=40, lmb=0.25):\n",
    "    start = time.time()\n",
    "    normalize_text_feature = k_near_faiss.get_text_difference_feature(query, diff_queries=diff_queries, lmb=lmb)\n",
    "    end_feature = time.time()\n",
    "    score_list, meta_list = k_near_faiss.k_nearest_meta(normalize_text_feature, k=end_idx)\n",
    "    end_search = time.time()\n",
    "    print(f\"{end_feature-start:.4f} for computing features. {end_search-end_feature} for computing KNN.\")\n",
    "    print(f\"length is {len(meta_list)} and {len(meta_list[start_idx:end_idx])}\")\n",
    "    return score_list[start_idx:end_idx], meta_list[start_idx:end_idx]\n",
    "#     print(meta_lists[0][7].get_path())"
   ]
  },
  {
   "cell_type": "code",
   "execution_count": null,
   "id": "published-migration",
   "metadata": {},
   "outputs": [],
   "source": [
    "\n",
    "fruit_apple = 'a photo of apple, a type of fruit'\n",
    "phone_apple = 'a photo of apple, a type of phone'\n",
    "logo_apple = 'a photo of apple, a type of logo'\n",
    "expensive_apple = 'a photo of expensive apple'\n",
    "cheap_apple = 'a photo of cheap apple'\n",
    "just_apple = 'a photo of apple'\n",
    "\n",
    "just_an_apple = 'a photo of an apple'\n",
    "just_apples = 'a photo of apples'\n",
    "just_apple = 'a photo of apple'\n",
    "apple_tree = 'a photo of apple tree'\n",
    "\n",
    "no_apple = 'no apple'\n",
    "\n",
    "old_apple = 'a photo of apple, which is old'\n",
    "new_apple = 'a photo of apple, which is new'\n",
    "fresh_apple = 'a photo of apple, which is fresh'\n",
    "rotten_apple = 'rotten apple'\n",
    "pretty_apple = 'a photo of apple, which is pretty'\n",
    "ugly_apple = 'a photo of apple, which is ugly'\n",
    "broken_apple = 'broken apple'\n",
    "no_function_apple = 'not functioning apple'\n",
    "\n",
    "\n",
    "old_car = \"a photo of a car, which is old\"\n",
    "a1980_car = \"a photo of a car in 1980s\"\n",
    "n2004_car = \"a photo of a car in 2004\"\n",
    "n2005_car = \"a photo of a car in 2005\"\n",
    "n2006_car = \"a photo of a car in 2006\"\n",
    "n2007_car = \"a photo of a car in 2007\"\n",
    "n2008_car = \"a photo of a car in 2008\"\n",
    "n2009_car = \"a photo of a car in 2009\"\n",
    "n2010_car = \"a photo of a car in 2010\"\n",
    "n2011_car = \"a photo of a car in 2011\"\n",
    "n2012_car = \"a photo of a car in 2012\"\n",
    "n2013_car = \"a photo of a car in 2013\"\n",
    "n2014_car = \"a photo of a car in 2014\"\n",
    "a2010_car = \"a photo of a car in 2010s\"\n",
    "new_car = \"a photo of a car, which is new\"\n",
    "broken_car = \"a photo of a car, which is broken\"\n",
    "just_car = \"a photo of a car\"\n",
    "\n",
    "old_bike = \"a photo of a bike, which is old\"\n",
    "new_bike = \"a photo of a bike, which is new\"\n",
    "broken_bike = \"a photo of a bike, which is broken\"\n",
    "just_bike = \"a photo of a bike\"\n",
    "\n",
    "old_motorcycle = \"a photo of a motorcycle, which is old\"\n",
    "new_motorcycle = \"a photo of a motorcycle, which is new\"\n",
    "broken_motorcycle = \"a photo of a motorcycle, which is broken\"\n",
    "just_motorcycle = \"a photo of a motorcycle\"\n",
    "just_motorcycles = \"a photo of motorcycles\"\n",
    "\n",
    "old_motorbike = \"a photo of a motorbike, which is old\"\n",
    "new_motorbike = \"a photo of a motorbike, which is new\"\n",
    "broken_motorbike = \"a photo of a motorbike, which is broken\"\n",
    "just_motorbike = \"a photo of a motorbike\"\n",
    "only_motorbike = \"only motorbike\"\n",
    "motorbike_and_car = \"motorbike and car\"\n",
    "\n",
    "no_car_motorbike = \"a photo of a motorbike, no car\"\n",
    "\n",
    "old_jet = \"a photo of a jet, which is old\"\n",
    "new_jet = \"a photo of a jet, which is new\"\n",
    "broken_jet = \"a photo of a jet, which is broken\"\n",
    "\n",
    "old_shirt = \"a photo of a t-shirt, which is old\"\n",
    "new_shirt = \"a photo of a t-shirt, which is new\"\n",
    "\n",
    "n2004 = 'a photo in 2004'\n",
    "n2014 = 'a photo in 2014'\n",
    "n1980 = 'a photo in 1980'\n",
    "n2020 = 'a photo in 2020'\n",
    "\n",
    "\n",
    "mouse_animal = 'a photo of mouse, a type of animal'\n",
    "mouse_accessory = 'a photo of mouse, a type of accessory'\n",
    "just_mouse = 'a photo of mouse'\n",
    "just_star = 'a photo of star'\n",
    "\n",
    "obama = 'obama'\n",
    "trump = 'trump'\n",
    "president = 'a photo of president'\n",
    "curr_president = 'a photo of current president'\n",
    "vice_president = 'a photo of vice president'\n",
    "presidential_debate = \"presidential debate\""
   ]
  },
  {
   "cell_type": "code",
   "execution_count": null,
   "id": "aquatic-turkish",
   "metadata": {},
   "outputs": [],
   "source": [
    "motor_bike_no_car_scores, motor_bike_no_car_lst = grab_top_query_images_difference(\"A photo of a motorcycle\", diff_queries=['A photo of a car'],\\\n",
    "                                                                     start_idx=0, end_idx=10000, lmb=1.)\n"
   ]
  },
  {
   "cell_type": "code",
   "execution_count": null,
   "id": "extra-douglas",
   "metadata": {},
   "outputs": [],
   "source": [
    "start=500\n",
    "end=start+50\n",
    "display_top_query_from_meta(motor_bike_no_car_lst[start:end], fill=False, score_list=motor_bike_no_car_scores[start:end])\n",
    "print(motor_bike_no_car_scores[end])\n",
    "print(motor_bike_no_car_lst[8].get_path())"
   ]
  },
  {
   "cell_type": "code",
   "execution_count": null,
   "id": "played-blind",
   "metadata": {},
   "outputs": [],
   "source": [
    "motor_bike_with_car_scores, motor_bike_with_car_lst = grab_top_query_images_difference(\"A photo of a motorcycle\", diff_queries=['A photo of a car'],\\\n",
    "                                                                     start_idx=0, end_idx=10000, lmb=-1.)\n"
   ]
  },
  {
   "cell_type": "code",
   "execution_count": null,
   "id": "centered-junction",
   "metadata": {},
   "outputs": [],
   "source": [
    "start=100\n",
    "end=start+50\n",
    "display_top_query_from_meta(motor_bike_with_car_lst[start:end], fill=False, score_list=motor_bike_with_car_scores[start:end])"
   ]
  },
  {
   "cell_type": "code",
   "execution_count": null,
   "id": "transsexual-overview",
   "metadata": {
    "scrolled": false
   },
   "outputs": [],
   "source": [
    "# show_top_query_images(\"A photo of motorbike without car\", start_idx=0, end_idx=50, fill=False)\n",
    "motor_bike_scores, motor_bike_lst = grab_top_query_images(\"A photo of a motorcycle\", start_idx=0, end_idx=10000)"
   ]
  },
  {
   "cell_type": "code",
   "execution_count": null,
   "id": "advance-pharmaceutical",
   "metadata": {},
   "outputs": [],
   "source": [
    "plot_scores_jupyter(motor_bike_scores)"
   ]
  },
  {
   "cell_type": "code",
   "execution_count": null,
   "id": "sunrise-cause",
   "metadata": {},
   "outputs": [],
   "source": [
    "def plot_scores_jupyter(score_list, plot_mean=False):\n",
    "    min_count = None\n",
    "    max_count = None\n",
    "    avg_count = 0\n",
    "    for s in score_list:\n",
    "        if not min_count or s < min_count:\n",
    "            min_count = s\n",
    "        if not max_count or s > max_count:\n",
    "            max_count = s\n",
    "        avg_count += s\n",
    "    avg_count = avg_count / len(score_list)\n",
    "\n",
    "    bins = np.linspace(min_count, max_count, 15)\n",
    "    plt.figure(figsize=(8,8))\n",
    "    if plot_mean:\n",
    "        plt.axhline(y=avg_count, label=f\"Mean scores of Samples {avg_count}\", linestyle='--', color='black')\n",
    "    plt.hist(score_list, bins, alpha=0.5, label='Number of samples')\n",
    "    plt.legend(loc='upper right')\n",
    "    plt.tight_layout()"
   ]
  },
  {
   "cell_type": "code",
   "execution_count": null,
   "id": "controversial-confirmation",
   "metadata": {},
   "outputs": [],
   "source": [
    "start=100\n",
    "end=start+50\n",
    "display_top_query_from_meta(motor_bike_lst[start:end], fill=False, score_list=motor_bike_scores[start:end])\n",
    "print(motor_bike_scores[end])\n",
    "print(motor_bike_lst[8].get_path())"
   ]
  },
  {
   "cell_type": "code",
   "execution_count": null,
   "id": "inside-reproduction",
   "metadata": {},
   "outputs": [],
   "source": [
    "motorcycle_with_car_path = \"/scratch/zhiqiu/yfcc100m_all/images_minbyte_10_valid_uploaded_date_jan_31/33/images/3878798703.jpg\"\n",
    "motorcycle_without_car_path = motor_bike_lst[8].get_path()\n",
    "ImageDisplay(motorcycle_with_car_path)\n"
   ]
  },
  {
   "cell_type": "code",
   "execution_count": null,
   "id": "dominant-flood",
   "metadata": {},
   "outputs": [],
   "source": [
    "normalize_image_feature = k_near_faiss.get_normalized_image_feature(motorcycle_with_car_path)\n",
    "D, meta_list = k_near_faiss.k_nearest_meta(normalize_image_feature, k=20)"
   ]
  },
  {
   "cell_type": "code",
   "execution_count": null,
   "id": "global-mistress",
   "metadata": {},
   "outputs": [],
   "source": [
    "idx = 10\n",
    "display_top_query_from_meta(meta_list, fill=False)\n",
    "p = meta_list[idx].get_path()\n",
    "motor_score = k_near_faiss.get_clip_score(p, \"A photo of a motorcycle\")\n",
    "car_score = k_near_faiss.get_clip_score(p, \"A photo of a car\")\n",
    "print(f\"motorcycle score: {motor_score}\")\n",
    "print(f\"car score: {car_score}\")\n",
    "# ImageDisplay(p)"
   ]
  },
  {
   "cell_type": "code",
   "execution_count": null,
   "id": "insured-friendship",
   "metadata": {},
   "outputs": [],
   "source": [
    "motor_score = k_near_faiss.get_clip_score(motorcycle_with_car_path, \"A photo of a motorcycle\")\n",
    "car_score = k_near_faiss.get_clip_score(motorcycle_with_car_path, \"A photo of a car\")\n",
    "print(f\"motorcycle score: {motor_score:.4f}\")\n",
    "print(f\"car score:        {car_score:.4f}\")\n",
    "lmb = 1.0\n",
    "diff_clip_score = k_near_faiss.get_clip_score(motorcycle_with_car_path, query=\"A photo of a motorcycle\",\\\n",
    "                            diff_queries=[\"A photo of a car\"],\\\n",
    "                           lmb=lmb)\n",
    "print(f\"Score difference: {diff_clip_score:.4f}\")\n",
    "ImageDisplay(motorcycle_with_car_path)"
   ]
  },
  {
   "cell_type": "code",
   "execution_count": null,
   "id": "unique-geology",
   "metadata": {},
   "outputs": [],
   "source": [
    "motor_score = k_near_faiss.get_clip_score(motorcycle_without_car_path, \"A photo of a motorcycle\")\n",
    "car_score = k_near_faiss.get_clip_score(motorcycle_without_car_path, \"A photo of a car\")\n",
    "print(f\"motorcycle score: {motor_score:.4f}\")\n",
    "print(f\"car score:        {car_score:.4f}\")\n",
    "lmb = 1.0\n",
    "diff_clip_score = k_near_faiss.get_clip_score(motorcycle_without_car_path, query=\"A photo of a motorcycle\",\\\n",
    "                            diff_queries=[\"A photo of a car\"],\\\n",
    "                           lmb=lmb)\n",
    "print(f\"Score difference: {diff_clip_score:.4f}\")\n",
    "ImageDisplay(motorcycle_without_car_path)"
   ]
  },
  {
   "cell_type": "code",
   "execution_count": null,
   "id": "modular-nicholas",
   "metadata": {},
   "outputs": [],
   "source": [
    "apple_scores, apple_lst = grab_top_query_images(\"A photo of a apple\", start_idx=0, end_idx=10000)"
   ]
  },
  {
   "cell_type": "code",
   "execution_count": null,
   "id": "consistent-fireplace",
   "metadata": {},
   "outputs": [],
   "source": [
    "# display_top_query_from_meta(apple_lst[:50], fill=False, score_list=apple_scores[:50])\n",
    "start=300\n",
    "end=start+50\n",
    "display_top_query_from_meta(apple_lst[start:end], fill=False, score_list=apple_scores[start:end])\n",
    "print(apple_scores[end])"
   ]
  },
  {
   "cell_type": "code",
   "execution_count": null,
   "id": "scientific-painting",
   "metadata": {},
   "outputs": [],
   "source": [
    "plot_scores_jupyter(apple_scores)"
   ]
  },
  {
   "cell_type": "code",
   "execution_count": null,
   "id": "welsh-proposition",
   "metadata": {},
   "outputs": [],
   "source": [
    "bike_scores, bike_lst = grab_top_query_images(\"A photo of a bike\", start_idx=0, end_idx=10000)"
   ]
  },
  {
   "cell_type": "code",
   "execution_count": null,
   "id": "right-heart",
   "metadata": {},
   "outputs": [],
   "source": [
    "start=600\n",
    "end=start+50\n",
    "display_top_query_from_meta(bike_lst[start:end], fill=False, score_list=bike_scores[start:end])\n",
    "print(bike_scores[end])\n",
    "# print(bike_lst[8].get_path())"
   ]
  },
  {
   "cell_type": "code",
   "execution_count": null,
   "id": "opened-maple",
   "metadata": {},
   "outputs": [],
   "source": [
    "bike_no_motor_bike_scores, bike_no_motor_bike_lst = grab_top_query_images_difference(\"A photo of a bike\", diff_queries=['A photo of a motorcycle'],\\\n",
    "                                                                     start_idx=0, end_idx=10000, lmb=1.)\n",
    "\n"
   ]
  },
  {
   "cell_type": "code",
   "execution_count": null,
   "id": "guided-pound",
   "metadata": {},
   "outputs": [],
   "source": [
    "start=500\n",
    "end=start+50\n",
    "display_top_query_from_meta(bike_no_motor_bike_lst[start:end], fill=False, score_list=bike_no_motor_bike_scores[start:end])\n",
    "print(bike_no_motor_bike_scores[end])"
   ]
  },
  {
   "cell_type": "code",
   "execution_count": null,
   "id": "adjacent-triangle",
   "metadata": {},
   "outputs": [],
   "source": [
    "bike_no_motor_bike_no_car_scores, bike_no_motor_bike_no_car_lst = grab_top_query_images_difference(\"A photo of a bike\", \\\n",
    "                                                                                                   diff_queries=['A photo of a motorcycle', 'A photo of a car'],\\\n",
    "                                                                     start_idx=0, end_idx=10000, lmb=1.)\n",
    "\n",
    "\n"
   ]
  },
  {
   "cell_type": "code",
   "execution_count": null,
   "id": "frequent-sierra",
   "metadata": {},
   "outputs": [],
   "source": [
    "start=600\n",
    "end=start+50\n",
    "display_top_query_from_meta(bike_no_motor_bike_no_car_lst[start:end], fill=False, score_list=bike_no_motor_bike_no_car_scores[start:end])\n",
    "print(bike_no_motor_bike_no_car_scores[end])"
   ]
  },
  {
   "cell_type": "code",
   "execution_count": null,
   "id": "tribal-draft",
   "metadata": {},
   "outputs": [],
   "source": [
    "car_scores, car_lst = grab_top_query_images(\"A photo of car\", start_idx=0, end_idx=4000)"
   ]
  },
  {
   "cell_type": "code",
   "execution_count": null,
   "id": "crude-ordinance",
   "metadata": {},
   "outputs": [],
   "source": []
  },
  {
   "cell_type": "code",
   "execution_count": null,
   "id": "interested-protocol",
   "metadata": {},
   "outputs": [],
   "source": [
    "# meta_lst = grab_top_query_images(phone_apple, start_idx=0, end_idx=2049)\n",
    "# plot_time_jupyter(meta_lst)"
   ]
  },
  {
   "cell_type": "code",
   "execution_count": null,
   "id": "placed-rental",
   "metadata": {},
   "outputs": [],
   "source": [
    "lst = grab_top_query_images(fruit_apple, start_idx=0, end_idx=500)\n",
    "plot_time_jupyter(lst)"
   ]
  },
  {
   "cell_type": "code",
   "execution_count": null,
   "id": "adaptive-research",
   "metadata": {},
   "outputs": [],
   "source": [
    "lst = grab_top_query_images(fruit_apple, start_idx=0, end_idx=5000)\n",
    "plot_time_jupyter(lst)"
   ]
  },
  {
   "cell_type": "code",
   "execution_count": null,
   "id": "precious-digest",
   "metadata": {},
   "outputs": [],
   "source": [
    "# ImageDisplay(\"/scratch/zhiqiu/yfcc100m_all/images_minbyte_10_valid_uploaded_date_jan_25/37/images/11052978605.png\")"
   ]
  }
 ],
 "metadata": {
  "kernelspec": {
   "display_name": "Python 3",
   "language": "python",
   "name": "python3"
  },
  "language_info": {
   "codemirror_mode": {
    "name": "ipython",
    "version": 3
   },
   "file_extension": ".py",
   "mimetype": "text/x-python",
   "name": "python",
   "nbconvert_exporter": "python",
   "pygments_lexer": "ipython3",
   "version": "3.8.5"
  }
 },
 "nbformat": 4,
 "nbformat_minor": 5
}
